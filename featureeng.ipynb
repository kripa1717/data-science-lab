{
 "cells": [
  {
   "cell_type": "code",
   "execution_count": 18,
   "metadata": {},
   "outputs": [],
   "source": [
    "import pandas as pd\n",
    "import numpy as np\n",
    "import seaborn as sns\n",
    "import matplotlib.pyplot as plt\n",
    "from sklearn.impute import SimpleImputer\n",
    "from sklearn.preprocessing import OneHotEncoder, StandardScaler, LabelEncoder\n",
    "from sklearn.decomposition import PCA\n",
    "from sklearn.ensemble import ExtraTreesClassifier\n",
    "from scipy import stats"
   ]
  },
  {
   "cell_type": "code",
   "execution_count": 19,
   "metadata": {},
   "outputs": [],
   "source": [
    "# Load Titanic dataset from dsLAB file\n",
    "df = pd.read_csv(\"titanic.csv\")\n"
   ]
  },
  {
   "cell_type": "code",
   "execution_count": 20,
   "metadata": {},
   "outputs": [
    {
     "name": "stdout",
     "output_type": "stream",
     "text": [
      "Missing values before handling:\n",
      " PassengerId      0\n",
      "Survived         0\n",
      "Pclass           0\n",
      "Name             0\n",
      "Sex              0\n",
      "Age            177\n",
      "SibSp            0\n",
      "Parch            0\n",
      "Ticket           0\n",
      "Fare             0\n",
      "Cabin          687\n",
      "Embarked         2\n",
      "dtype: int64\n",
      "Missing values after handling:\n",
      " PassengerId    0\n",
      "Survived       0\n",
      "Pclass         0\n",
      "Name           0\n",
      "Sex            0\n",
      "Age            0\n",
      "SibSp          0\n",
      "Parch          0\n",
      "Ticket         0\n",
      "Fare           0\n",
      "Embarked       0\n",
      "dtype: int64\n"
     ]
    },
    {
     "name": "stderr",
     "output_type": "stream",
     "text": [
      "C:\\Users\\krish\\AppData\\Local\\Temp\\ipykernel_10568\\449778530.py:3: FutureWarning: A value is trying to be set on a copy of a DataFrame or Series through chained assignment using an inplace method.\n",
      "The behavior will change in pandas 3.0. This inplace method will never work because the intermediate object on which we are setting values always behaves as a copy.\n",
      "\n",
      "For example, when doing 'df[col].method(value, inplace=True)', try using 'df.method({col: value}, inplace=True)' or df[col] = df[col].method(value) instead, to perform the operation inplace on the original object.\n",
      "\n",
      "\n",
      "  df['Age'].fillna(df['Age'].median(), inplace=True)\n",
      "C:\\Users\\krish\\AppData\\Local\\Temp\\ipykernel_10568\\449778530.py:4: FutureWarning: A value is trying to be set on a copy of a DataFrame or Series through chained assignment using an inplace method.\n",
      "The behavior will change in pandas 3.0. This inplace method will never work because the intermediate object on which we are setting values always behaves as a copy.\n",
      "\n",
      "For example, when doing 'df[col].method(value, inplace=True)', try using 'df.method({col: value}, inplace=True)' or df[col] = df[col].method(value) instead, to perform the operation inplace on the original object.\n",
      "\n",
      "\n",
      "  df['Embarked'].fillna(df['Embarked'].mode()[0], inplace=True)\n"
     ]
    }
   ],
   "source": [
    "\n",
    "# Step 1: Handle missing values\n",
    "print(\"Missing values before handling:\\n\", df.isnull().sum())\n",
    "df['Age'].fillna(df['Age'].median(), inplace=True)\n",
    "df['Embarked'].fillna(df['Embarked'].mode()[0], inplace=True)\n",
    "df.drop(columns=['Cabin'], inplace=True)\n",
    "print(\"Missing values after handling:\\n\", df.isnull().sum())\n"
   ]
  },
  {
   "cell_type": "code",
   "execution_count": 21,
   "metadata": {},
   "outputs": [
    {
     "name": "stdout",
     "output_type": "stream",
     "text": [
      "Columns before encoding: Index(['PassengerId', 'Survived', 'Pclass', 'Name', 'Sex', 'Age', 'SibSp',\n",
      "       'Parch', 'Ticket', 'Fare', 'Embarked'],\n",
      "      dtype='object')\n",
      "Columns after encoding: Index(['PassengerId', 'Survived', 'Pclass', 'Name', 'Age', 'SibSp', 'Parch',\n",
      "       'Ticket', 'Fare', 'Sex_male', 'Embarked_Q', 'Embarked_S'],\n",
      "      dtype='object')\n"
     ]
    }
   ],
   "source": [
    "# Step 2: Handle categorical values\n",
    "print(\"Columns before encoding:\", df.columns)\n",
    "categorical_cols = ['Sex', 'Embarked']\n",
    "df = pd.get_dummies(df, columns=categorical_cols, drop_first=True)  # One-hot encoding\n",
    "print(\"Columns after encoding:\", df.columns)"
   ]
  },
  {
   "cell_type": "code",
   "execution_count": 22,
   "metadata": {},
   "outputs": [
    {
     "name": "stdout",
     "output_type": "stream",
     "text": [
      "Before Scaling:\n",
      "     Age     Fare  SibSp  Parch\n",
      "0  22.0   7.2500      1      0\n",
      "1  38.0  71.2833      1      0\n",
      "2  26.0   7.9250      0      0\n",
      "3  35.0  53.1000      1      0\n",
      "4  35.0   8.0500      0      0\n",
      "After Scaling:\n",
      "         Age      Fare     SibSp     Parch\n",
      "0 -0.565736 -0.502445  0.432793 -0.473674\n",
      "1  0.663861  0.786845  0.432793 -0.473674\n",
      "2 -0.258337 -0.488854 -0.474545 -0.473674\n",
      "3  0.433312  0.420730  0.432793 -0.473674\n",
      "4  0.433312 -0.486337 -0.474545 -0.473674\n"
     ]
    }
   ],
   "source": [
    "# Step 3: Scale the features\n",
    "numerical_cols = ['Age', 'Fare', 'SibSp', 'Parch']\n",
    "print(\"Before Scaling:\\n\", df[numerical_cols].head())\n",
    "scaler = StandardScaler()\n",
    "df[numerical_cols] = scaler.fit_transform(df[numerical_cols])\n",
    "print(\"After Scaling:\\n\", df[numerical_cols].head())"
   ]
  },
  {
   "cell_type": "code",
   "execution_count": 23,
   "metadata": {},
   "outputs": [
    {
     "name": "stdout",
     "output_type": "stream",
     "text": [
      "Dataset size before removing outliers: (891, 12)\n",
      "Dataset size after removing outliers: (820, 12)\n"
     ]
    }
   ],
   "source": [
    "# Step 4: Remove outliers using Z-score\n",
    "print(\"Dataset size before removing outliers:\", df.shape)\n",
    "z_scores = np.abs(stats.zscore(df[numerical_cols]))\n",
    "df = df[(z_scores < 3).all(axis=1)]\n",
    "print(\"Dataset size after removing outliers:\", df.shape)\n"
   ]
  },
  {
   "cell_type": "code",
   "execution_count": 24,
   "metadata": {},
   "outputs": [
    {
     "name": "stdout",
     "output_type": "stream",
     "text": [
      "Selected Features: ['Sex_male', 'Fare', 'Age', 'Pclass', 'Parch']\n"
     ]
    }
   ],
   "source": [
    "# Step 5: Feature selection using ExtraTreesClassifier\n",
    "X = df.drop(columns=['Survived', 'Name', 'Ticket', 'PassengerId'])\n",
    "y = df['Survived']\n",
    "\n",
    "model = ExtraTreesClassifier()\n",
    "model.fit(X, y)\n",
    "\n",
    "# Select important features\n",
    "feature_importances = pd.Series(model.feature_importances_, index=X.columns)\n",
    "selected_features = feature_importances.nlargest(5).index.tolist()\n",
    "print(\"Selected Features:\", selected_features)\n",
    "X_selected = X[selected_features]"
   ]
  },
  {
   "cell_type": "code",
   "execution_count": 25,
   "metadata": {},
   "outputs": [
    {
     "name": "stdout",
     "output_type": "stream",
     "text": [
      "PCA Result:\n",
      "         PC1       PC2\n",
      "0 -0.940655 -0.407143\n",
      "1  1.622049  0.559314\n",
      "2 -0.695756 -0.345756\n",
      "3  1.336483  0.527158\n",
      "4 -0.230642 -0.920442\n"
     ]
    }
   ],
   "source": [
    "# Step 6: PCA (Principal Component Analysis)\n",
    "pca = PCA(n_components=2)\n",
    "X_pca = pca.fit_transform(X_selected)\n",
    "\n",
    "# Convert PCA result into DataFrame\n",
    "df_pca = pd.DataFrame(X_pca, columns=['PC1', 'PC2'])\n",
    "print(\"PCA Result:\\n\", df_pca.head())"
   ]
  }
 ],
 "metadata": {
  "kernelspec": {
   "display_name": "Python 3",
   "language": "python",
   "name": "python3"
  },
  "language_info": {
   "codemirror_mode": {
    "name": "ipython",
    "version": 3
   },
   "file_extension": ".py",
   "mimetype": "text/x-python",
   "name": "python",
   "nbconvert_exporter": "python",
   "pygments_lexer": "ipython3",
   "version": "3.13.1"
  }
 },
 "nbformat": 4,
 "nbformat_minor": 2
}
